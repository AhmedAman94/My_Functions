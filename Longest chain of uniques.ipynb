{
 "cells": [
  {
   "cell_type": "markdown",
   "metadata": {},
   "source": [
    "# Longest chain of uniques"
   ]
  },
  {
   "cell_type": "markdown",
   "metadata": {},
   "source": [
    "How to get the longest chain of unique characters, characters or numbers from a list, string or number"
   ]
  },
  {
   "cell_type": "markdown",
   "metadata": {},
   "source": [
    "Inspired by _Longest Substring Without Repeating Characters_ problem on leetcode"
   ]
  },
  {
   "cell_type": "markdown",
   "metadata": {},
   "source": [
    "###### Unique elements in a list"
   ]
  },
  {
   "cell_type": "code",
   "execution_count": 1,
   "metadata": {},
   "outputs": [],
   "source": [
    "farm = ['cat' , 'dog' , 'cow' , 'pig' , 'dog' , 'cat' , 'parrot' , 'horse' , 'rooster' , 'cow']"
   ]
  },
  {
   "cell_type": "code",
   "execution_count": 2,
   "metadata": {},
   "outputs": [],
   "source": [
    "def longest_elements(input_list):\n",
    "    \n",
    "    m           = {} # dictionary of seen elements\n",
    "    left_count  = 0  # left counter\n",
    "    right_count = 0  # right counter\n",
    "    longest_list= 0  # len of longest list\n",
    "    current_els = [] # list with zero elements\n",
    "    \n",
    "    while (left_count < len(input_list)) and (right_count < len(input_list)):\n",
    "        \n",
    "        # point to current animal\n",
    "        element = input_list[right_count]\n",
    "        \n",
    "        if element in m:\n",
    "            \n",
    "            # update left_count\n",
    "            left_count =  max(left_count , m[element] + 1)\n",
    "        \n",
    "        # add/update element to dictionary\n",
    "        m[element]     = right_count\n",
    "        \n",
    "        # update longest substring\n",
    "        new_els        = input_list[left_count : right_count +1]\n",
    "        \n",
    "        # update current elements\n",
    "        if len(new_els) > len(current_els):\n",
    "            \n",
    "            current_els= new_els\n",
    "        \n",
    "        # update longest_list \n",
    "        longest_list   = max(longest_list , (right_count - left_count + 1))\n",
    "        \n",
    "        # update right_count\n",
    "        right_count   += 1 \n",
    "        \n",
    "    return longest_list , current_els"
   ]
  },
  {
   "cell_type": "code",
   "execution_count": 3,
   "metadata": {},
   "outputs": [
    {
     "name": "stdout",
     "output_type": "stream",
     "text": [
      "7\n",
      "['cow', 'pig', 'dog', 'cat', 'parrot', 'horse', 'rooster']\n"
     ]
    }
   ],
   "source": [
    "unique_animal_chain = longest_elements(farm)\n",
    "\n",
    "print(unique_animal_chain[0])\n",
    "print(unique_animal_chain[1])"
   ]
  },
  {
   "cell_type": "markdown",
   "metadata": {},
   "source": [
    "###### Unique characters in a string"
   ]
  },
  {
   "cell_type": "code",
   "execution_count": 4,
   "metadata": {},
   "outputs": [],
   "source": [
    "s = \"abcaasgfreghbcbbgesdhezbhntukabbb\""
   ]
  },
  {
   "cell_type": "code",
   "execution_count": 5,
   "metadata": {},
   "outputs": [],
   "source": [
    "def longest_substring(s):\n",
    "    \n",
    "    m           = {} # dictionary of seen elements\n",
    "    left_count  = 0  # left counter\n",
    "    right_count = 0  # right counter\n",
    "    longest_s   = 0  # len of longest substring\n",
    "    substring   = '' # string with zero characters\n",
    "    \n",
    "    while (left_count < len(s)) and (right_count < len(s)):\n",
    "        \n",
    "        element = s[right_count]\n",
    "        \n",
    "        if element in m:\n",
    "            \n",
    "            # update left_count\n",
    "            left_count =  max(left_count , m[element] + 1)\n",
    "        \n",
    "        # add/update element to dictionary\n",
    "        m[element]     = right_count\n",
    "        \n",
    "        # updata longest substring\n",
    "        new_substring  = s[left_count : right_count +1]\n",
    "        \n",
    "        if len(new_substring) > len(substring):\n",
    "            substring  = new_substring\n",
    "        \n",
    "        # update longest_s (len of substring)\n",
    "        longest_s  = max(longest_s , (right_count - left_count + 1))\n",
    "        \n",
    "        # update right_count\n",
    "        right_count   += 1 \n",
    "        \n",
    "    return longest_s , substring "
   ]
  },
  {
   "cell_type": "code",
   "execution_count": 6,
   "metadata": {},
   "outputs": [
    {
     "name": "stdout",
     "output_type": "stream",
     "text": [
      "9\n",
      "ezbhntuka\n"
     ]
    }
   ],
   "source": [
    "longest_unique = longest_substring(s)\n",
    "\n",
    "print(longest_unique[0])\n",
    "print(longest_unique[1])"
   ]
  },
  {
   "cell_type": "markdown",
   "metadata": {},
   "source": [
    "###### Unique numbers in an integer (same logic)"
   ]
  },
  {
   "cell_type": "code",
   "execution_count": 7,
   "metadata": {},
   "outputs": [],
   "source": [
    "number = 11154635223502340104"
   ]
  },
  {
   "cell_type": "code",
   "execution_count": 8,
   "metadata": {},
   "outputs": [
    {
     "name": "stdout",
     "output_type": "stream",
     "text": [
      "5\n",
      "15463\n"
     ]
    }
   ],
   "source": [
    "longest_unique = longest_substring(str(number))\n",
    "\n",
    "print(longest_unique[0])\n",
    "print(longest_unique[1])"
   ]
  }
 ],
 "metadata": {
  "kernelspec": {
   "display_name": "Python 3",
   "language": "python",
   "name": "python3"
  },
  "language_info": {
   "codemirror_mode": {
    "name": "ipython",
    "version": 3
   },
   "file_extension": ".py",
   "mimetype": "text/x-python",
   "name": "python",
   "nbconvert_exporter": "python",
   "pygments_lexer": "ipython3",
   "version": "3.7.6"
  }
 },
 "nbformat": 4,
 "nbformat_minor": 4
}
