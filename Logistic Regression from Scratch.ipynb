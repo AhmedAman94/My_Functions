{
 "cells": [
  {
   "cell_type": "markdown",
   "metadata": {},
   "source": [
    "Import libraries"
   ]
  },
  {
   "cell_type": "code",
   "execution_count": 1,
   "metadata": {},
   "outputs": [],
   "source": [
    "import pandas as pd\n",
    "import numpy as np\n",
    "from random import randint"
   ]
  },
  {
   "cell_type": "markdown",
   "metadata": {},
   "source": [
    "Construct data"
   ]
  },
  {
   "cell_type": "code",
   "execution_count": 2,
   "metadata": {},
   "outputs": [],
   "source": [
    "x1 = np.array([randint(100, 999) for i in range(0,1000)])\n",
    "x2 = np.array([randint(100, 999) for i in range(0,1000)])\n",
    "x3 = np.array([randint(100, 999) for i in range(0,1000)])\n",
    "x4 = np.array([randint(100, 999) for i in range(0,1000)])\n",
    "x5 = np.array([randint(100, 999) for i in range(0,1000)])\n",
    "\n",
    "bias = np.ones(1000).astype(int)\n",
    "y    = np.array([randint(0,1) for i in range(0,1000)])"
   ]
  },
  {
   "cell_type": "code",
   "execution_count": 3,
   "metadata": {},
   "outputs": [],
   "source": [
    "x1 = np.reshape(x1 , (len(x1), 1))\n",
    "x2 = np.reshape(x2 , (len(x2), 1))\n",
    "x3 = np.reshape(x3 , (len(x3), 1))\n",
    "x4 = np.reshape(x4 , (len(x4), 1))\n",
    "x5 = np.reshape(x5 , (len(x5), 1))\n",
    "\n",
    "bias = np.reshape(bias , (len(bias), 1))\n",
    "y    = np.reshape(y , (len(y), 1))"
   ]
  },
  {
   "cell_type": "code",
   "execution_count": 4,
   "metadata": {},
   "outputs": [
    {
     "data": {
      "text/plain": [
       "array([[  1, 163, 599, 770, 444, 622],\n",
       "       [  1, 121, 380, 961, 683, 588],\n",
       "       [  1, 335, 517, 149, 661, 345],\n",
       "       [  1, 753, 788, 134, 397, 324],\n",
       "       [  1, 618, 263, 199, 228, 442]])"
      ]
     },
     "execution_count": 4,
     "metadata": {},
     "output_type": "execute_result"
    }
   ],
   "source": [
    "X = np.append(bias , x1 , axis = 1)\n",
    "X = np.append(X , x2 , axis = 1)\n",
    "X = np.append(X , x3 , axis = 1)\n",
    "X = np.append(X , x4 , axis = 1)\n",
    "X = np.append(X , x5 , axis = 1)\n",
    "\n",
    "X[:5]"
   ]
  },
  {
   "cell_type": "markdown",
   "metadata": {},
   "source": [
    "Hypothesis"
   ]
  },
  {
   "cell_type": "code",
   "execution_count": 5,
   "metadata": {},
   "outputs": [
    {
     "name": "stdout",
     "output_type": "stream",
     "text": [
      "\n",
      "rows:  1000 \n",
      " cols:  6\n"
     ]
    }
   ],
   "source": [
    "rows , cols = X.shape\n",
    "\n",
    "print('\\nrows: ',rows , '\\n cols: ', cols)"
   ]
  },
  {
   "cell_type": "code",
   "execution_count": 6,
   "metadata": {},
   "outputs": [
    {
     "data": {
      "text/plain": [
       "array([[0],\n",
       "       [0],\n",
       "       [0],\n",
       "       [0],\n",
       "       [0],\n",
       "       [0]])"
      ]
     },
     "execution_count": 6,
     "metadata": {},
     "output_type": "execute_result"
    }
   ],
   "source": [
    "theta = np.zeros(cols).astype(int)\n",
    "\n",
    "theta = np.reshape(theta, (cols, 1))\n",
    "\n",
    "theta"
   ]
  },
  {
   "cell_type": "code",
   "execution_count": 7,
   "metadata": {},
   "outputs": [],
   "source": [
    "def logreg_hyp(theta , x):\n",
    "    \n",
    "    return np.dot(theta , x)"
   ]
  },
  {
   "cell_type": "markdown",
   "metadata": {},
   "source": [
    "Sigmoid"
   ]
  },
  {
   "cell_type": "code",
   "execution_count": 8,
   "metadata": {},
   "outputs": [],
   "source": [
    "def sigmoid(z):\n",
    "    \n",
    "    return 1 / (1 + np.exp(-z))"
   ]
  },
  {
   "cell_type": "markdown",
   "metadata": {},
   "source": [
    "Cost function"
   ]
  },
  {
   "cell_type": "code",
   "execution_count": 9,
   "metadata": {},
   "outputs": [],
   "source": [
    "def cost_compute(theta , x , y):\n",
    "    \n",
    "    cost = (y*(np.log(sigmoid(logreg_hyp(x , theta))))) + ((1-y)*(np.log(1 - sigmoid(logreg_hyp(x , theta)))))\n",
    "    \n",
    "    l    = np.sum(cost) / -rows\n",
    "    \n",
    "    return l"
   ]
  },
  {
   "cell_type": "code",
   "execution_count": 10,
   "metadata": {},
   "outputs": [
    {
     "data": {
      "text/plain": [
       "0.6931471805599454"
      ]
     },
     "execution_count": 10,
     "metadata": {},
     "output_type": "execute_result"
    }
   ],
   "source": [
    "cost_compute(theta , X , y)"
   ]
  },
  {
   "cell_type": "markdown",
   "metadata": {},
   "source": [
    "Gradient descent"
   ]
  },
  {
   "cell_type": "code",
   "execution_count": 11,
   "metadata": {},
   "outputs": [],
   "source": [
    "def gradient_descent(theta , x , y , alpha , iterations):\n",
    "    \n",
    "    for i in range(iterations):\n",
    "        \n",
    "        residual = sigmoid(logreg_hyp(x , theta)) - y\n",
    "        gradient = np.dot(x.transpose() , residual) / rows\n",
    "        \n",
    "        theta    = theta - (alpha/rows) * gradient\n",
    "        \n",
    "        return theta"
   ]
  },
  {
   "cell_type": "code",
   "execution_count": 12,
   "metadata": {},
   "outputs": [],
   "source": [
    "theta = gradient_descent(theta = theta , x = X , y = y , alpha = 0.00001 , iterations = 5000000000)"
   ]
  },
  {
   "cell_type": "code",
   "execution_count": 13,
   "metadata": {},
   "outputs": [
    {
     "data": {
      "text/plain": [
       "array([[ 1.00000e-10],\n",
       "       [-4.25950e-08],\n",
       "       [ 1.14665e-07],\n",
       "       [-1.84750e-08],\n",
       "       [ 4.36350e-08],\n",
       "       [ 1.09800e-08]])"
      ]
     },
     "execution_count": 13,
     "metadata": {},
     "output_type": "execute_result"
    }
   ],
   "source": [
    "theta"
   ]
  },
  {
   "cell_type": "code",
   "execution_count": 14,
   "metadata": {},
   "outputs": [
    {
     "data": {
      "text/plain": [
       "0.6931454483131277"
      ]
     },
     "execution_count": 14,
     "metadata": {},
     "output_type": "execute_result"
    }
   ],
   "source": [
    "cost_compute(theta , X , y)"
   ]
  }
 ],
 "metadata": {
  "kernelspec": {
   "display_name": "Python 3",
   "language": "python",
   "name": "python3"
  },
  "language_info": {
   "codemirror_mode": {
    "name": "ipython",
    "version": 3
   },
   "file_extension": ".py",
   "mimetype": "text/x-python",
   "name": "python",
   "nbconvert_exporter": "python",
   "pygments_lexer": "ipython3",
   "version": "3.7.6"
  }
 },
 "nbformat": 4,
 "nbformat_minor": 4
}
