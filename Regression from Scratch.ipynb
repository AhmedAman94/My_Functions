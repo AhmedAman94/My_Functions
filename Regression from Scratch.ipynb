{
 "cells": [
  {
   "cell_type": "code",
   "execution_count": 1,
   "metadata": {},
   "outputs": [],
   "source": [
    "import pandas as pd\n",
    "import numpy as np\n",
    "from random import randint"
   ]
  },
  {
   "cell_type": "code",
   "execution_count": 2,
   "metadata": {},
   "outputs": [
    {
     "name": "stdout",
     "output_type": "stream",
     "text": [
      "[306 841 567 509 584 143 879 606 125 239]\n",
      "[947 974 753 216 719 955 728 262 247 883]\n",
      "[614 993 415 588 204 437 829 663 482 177]\n",
      "[924 612 874 730 666 686 412 331 618 951]\n",
      "[109 770 499 950 701 310 321 806 173 391]\n",
      "[1 1 1 1 1 1 1 1 1 1]\n",
      "[97 19 11 20 10 78 61 78 41 58]\n"
     ]
    }
   ],
   "source": [
    "# np.arrays \n",
    "x1   = np.array([randint(100,999) for i in range(0,10)])\n",
    "x2   = np.array([randint(100,999) for i in range(0,10)])\n",
    "x3   = np.array([randint(100,999) for i in range(0,10)])\n",
    "x4   = np.array([randint(100,999) for i in range(0,10)])\n",
    "x5   = np.array([randint(100,999) for i in range(0,10)])\n",
    "\n",
    "bias = np.ones(10).astype(int)\n",
    "y    = np.array([randint(10,99) for i in range(0,10)])\n",
    "\n",
    "print(x1)\n",
    "print(x2)\n",
    "print(x3)\n",
    "print(x4)\n",
    "print(x5)\n",
    "print(bias)\n",
    "print(y)"
   ]
  },
  {
   "cell_type": "code",
   "execution_count": 3,
   "metadata": {},
   "outputs": [],
   "source": [
    "# reshape np.arrays to matrix\n",
    "x1   = np.reshape(x1,   (len(x1), 1))\n",
    "x2   = np.reshape(x2,   (len(x2), 1))  \n",
    "x3   = np.reshape(x3,   (len(x3), 1))  \n",
    "x4   = np.reshape(x4,   (len(x4), 1))  \n",
    "x5   = np.reshape(x5,   (len(x5), 1))  \n",
    "\n",
    "bias = np.reshape(bias, (len(bias), 1))  \n",
    "y    = np.reshape(y,    (len(y), 1))  "
   ]
  },
  {
   "cell_type": "code",
   "execution_count": 4,
   "metadata": {},
   "outputs": [
    {
     "data": {
      "text/plain": [
       "array([[306, 947, 614, 924, 109,   1],\n",
       "       [841, 974, 993, 612, 770,   1],\n",
       "       [567, 753, 415, 874, 499,   1],\n",
       "       [509, 216, 588, 730, 950,   1],\n",
       "       [584, 719, 204, 666, 701,   1],\n",
       "       [143, 955, 437, 686, 310,   1],\n",
       "       [879, 728, 829, 412, 321,   1],\n",
       "       [606, 262, 663, 331, 806,   1],\n",
       "       [125, 247, 482, 618, 173,   1],\n",
       "       [239, 883, 177, 951, 391,   1]])"
      ]
     },
     "execution_count": 4,
     "metadata": {},
     "output_type": "execute_result"
    }
   ],
   "source": [
    "X = np.append(x1 , x2 , axis = 1)\n",
    "\n",
    "X = np.append(X , x3 , axis = 1)\n",
    "X = np.append(X , x4 , axis = 1)\n",
    "X = np.append(X , x5 , axis = 1)\n",
    "X = np.append(X ,bias, axis = 1)\n",
    "\n",
    "X"
   ]
  },
  {
   "cell_type": "markdown",
   "metadata": {},
   "source": [
    "X transpose x inverse"
   ]
  },
  {
   "cell_type": "code",
   "execution_count": 5,
   "metadata": {},
   "outputs": [
    {
     "data": {
      "text/plain": [
       "array([[ 4.69453369e-06, -1.55105059e-06, -1.80964929e-06,\n",
       "         1.95792469e-06, -2.25053876e-06, -4.38762916e-04],\n",
       "       [-1.55105059e-06,  2.23796379e-06, -5.25901534e-08,\n",
       "        -2.02423045e-06,  1.21924517e-06,  4.09094599e-05],\n",
       "       [-1.80964929e-06, -5.25901534e-08,  3.29510735e-06,\n",
       "         1.29682262e-06,  6.72341716e-07, -2.09696103e-03],\n",
       "       [ 1.95792469e-06, -2.02423045e-06,  1.29682262e-06,\n",
       "         5.85753807e-06, -6.86264211e-07, -3.92743401e-03],\n",
       "       [-2.25053876e-06,  1.21924517e-06,  6.72341716e-07,\n",
       "        -6.86264211e-07,  2.68513551e-06, -9.81797907e-04],\n",
       "       [-4.38762916e-04,  4.09094599e-05, -2.09696103e-03,\n",
       "        -3.92743401e-03, -9.81797907e-04,  4.58206724e+00]])"
      ]
     },
     "execution_count": 5,
     "metadata": {},
     "output_type": "execute_result"
    }
   ],
   "source": [
    "np.linalg.inv(X.transpose().dot(X))"
   ]
  },
  {
   "cell_type": "markdown",
   "metadata": {},
   "source": [
    "X Transpose Y"
   ]
  },
  {
   "cell_type": "code",
   "execution_count": 6,
   "metadata": {},
   "outputs": [
    {
     "data": {
      "text/plain": [
       "array([[198946],\n",
       "       [330833],\n",
       "       [263187],\n",
       "       [317084],\n",
       "       [193102],\n",
       "       [   473]])"
      ]
     },
     "execution_count": 6,
     "metadata": {},
     "output_type": "execute_result"
    }
   ],
   "source": [
    "X.transpose().dot(y)"
   ]
  },
  {
   "cell_type": "markdown",
   "metadata": {},
   "source": [
    "Finding coefficients"
   ]
  },
  {
   "cell_type": "code",
   "execution_count": 7,
   "metadata": {},
   "outputs": [
    {
     "data": {
      "text/plain": [
       "array([[-7.67479922e-02],\n",
       "       [ 3.09136864e-02],\n",
       "       [ 3.89780380e-02],\n",
       "       [-7.17177691e-02],\n",
       "       [-3.09063220e-02],\n",
       "       [ 1.06755367e+02]])"
      ]
     },
     "execution_count": 7,
     "metadata": {},
     "output_type": "execute_result"
    }
   ],
   "source": [
    "theta = np.linalg.inv(X.transpose().dot(X)).dot(X.transpose().dot(y))\n",
    "\n",
    "theta"
   ]
  },
  {
   "cell_type": "code",
   "execution_count": 8,
   "metadata": {},
   "outputs": [
    {
     "name": "stdout",
     "output_type": "stream",
     "text": [
      "\t beta_0:  106.75536740585721 \n",
      " \t beta_1:  -0.07674799222741124 \n",
      " \t beta_2:  0.030913686441630332 \n",
      " \t beta_3:  0.038978038008750215 \n",
      " \t beta_4:  -0.07171776910125294 \n",
      " \t beta_5:  -0.030906322046407142 \n",
      "\n"
     ]
    }
   ],
   "source": [
    "beta_0 = theta[-1]\n",
    "beta_1 = theta[0]\n",
    "beta_2 = theta[1]\n",
    "beta_3 = theta[2]\n",
    "beta_4 = theta[3]\n",
    "beta_5 = theta[4]\n",
    "\n",
    "print(\n",
    "    '\\t beta_0: ', beta_0[0], '\\n',\n",
    "    '\\t beta_1: ', beta_1[0], '\\n',\n",
    "    '\\t beta_2: ', beta_2[0], '\\n',\n",
    "    '\\t beta_3: ', beta_3[0], '\\n',\n",
    "    '\\t beta_4: ', beta_4[0], '\\n',\n",
    "    '\\t beta_5: ', beta_5[0], '\\n',\n",
    ")"
   ]
  },
  {
   "cell_type": "code",
   "execution_count": 9,
   "metadata": {},
   "outputs": [],
   "source": [
    "x1 = np.array([randint(100,999) for i in range(0, 5)])\n",
    "x2 = np.array([randint(100,999) for i in range(0, 5)])\n",
    "x3 = np.array([randint(100,999) for i in range(0, 5)])\n",
    "x4 = np.array([randint(100,999) for i in range(0, 5)])\n",
    "x5 = np.array([randint(100,999) for i in range(0, 5)])"
   ]
  },
  {
   "cell_type": "code",
   "execution_count": 9,
   "metadata": {},
   "outputs": [],
   "source": [
    "def linear_regression(x1,x2,x3,x4,x5):\n",
    "    \n",
    "    beta_0 = 106.75536740585721\n",
    "    beta_1 = -0.07674799222741124\n",
    "    beta_2 = 0.030913686441630332\n",
    "    beta_3 = 0.038978038008750215\n",
    "    beta_4 = -0.07171776910125294\n",
    "    beta_5 = -0.030906322046407142\n",
    "    \n",
    "    y = beta_0 + beta_1*x1 + beta_2*x2 + beta_3*x3 + beta_4*x4\n",
    "    \n",
    "    return y"
   ]
  },
  {
   "cell_type": "code",
   "execution_count": 11,
   "metadata": {},
   "outputs": [
    {
     "data": {
      "text/plain": [
       "array([[70.21103953],\n",
       "       [67.13415359],\n",
       "       [40.01181728],\n",
       "       [44.93311054],\n",
       "       [44.34896603],\n",
       "       [93.13798808],\n",
       "       [64.56411861],\n",
       "       [70.44932759],\n",
       "       [79.26338194],\n",
       "       [54.4048967 ]])"
      ]
     },
     "execution_count": 11,
     "metadata": {},
     "output_type": "execute_result"
    }
   ],
   "source": [
    "y = linear_regression(x1,x2,x3,x4,x5)\n",
    "\n",
    "y"
   ]
  },
  {
   "cell_type": "code",
   "execution_count": 12,
   "metadata": {},
   "outputs": [
    {
     "data": {
      "text/plain": [
       "array([[70.21103953, 67.13415359, 40.01181728, 44.93311054, 44.34896603,\n",
       "        93.13798808, 64.56411861, 70.44932759, 79.26338194, 54.4048967 ]])"
      ]
     },
     "execution_count": 12,
     "metadata": {},
     "output_type": "execute_result"
    }
   ],
   "source": [
    "np.reshape(y, (1, len(y)))"
   ]
  },
  {
   "cell_type": "code",
   "execution_count": null,
   "metadata": {},
   "outputs": [],
   "source": []
  }
 ],
 "metadata": {
  "kernelspec": {
   "display_name": "Python 3",
   "language": "python",
   "name": "python3"
  },
  "language_info": {
   "codemirror_mode": {
    "name": "ipython",
    "version": 3
   },
   "file_extension": ".py",
   "mimetype": "text/x-python",
   "name": "python",
   "nbconvert_exporter": "python",
   "pygments_lexer": "ipython3",
   "version": "3.7.6"
  }
 },
 "nbformat": 4,
 "nbformat_minor": 4
}
